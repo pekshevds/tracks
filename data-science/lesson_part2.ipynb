{
 "cells": [
  {
   "cell_type": "code",
   "execution_count": 1,
   "id": "a6eb5c50",
   "metadata": {},
   "outputs": [],
   "source": [
    "import pandas as pd\n",
    "import numpy as np"
   ]
  },
  {
   "cell_type": "code",
   "execution_count": 2,
   "id": "07396a02",
   "metadata": {},
   "outputs": [
    {
     "name": "stdout",
     "output_type": "stream",
     "text": [
      "bus_stops.csv  lesson2.ipynb\t   metro_stops.csv\r\n",
      "lesson1.ipynb  lesson_part2.ipynb  venv\r\n"
     ]
    }
   ],
   "source": [
    "!ls"
   ]
  },
  {
   "cell_type": "code",
   "execution_count": 9,
   "id": "63509610",
   "metadata": {},
   "outputs": [],
   "source": [
    "stations = pd.read_csv(open('bus_stops.csv', 'r', encoding='cp1251'), sep=';')"
   ]
  },
  {
   "cell_type": "code",
   "execution_count": 10,
   "id": "739dac09",
   "metadata": {},
   "outputs": [
    {
     "data": {
      "text/html": [
       "<div>\n",
       "<style scoped>\n",
       "    .dataframe tbody tr th:only-of-type {\n",
       "        vertical-align: middle;\n",
       "    }\n",
       "\n",
       "    .dataframe tbody tr th {\n",
       "        vertical-align: top;\n",
       "    }\n",
       "\n",
       "    .dataframe thead th {\n",
       "        text-align: right;\n",
       "    }\n",
       "</style>\n",
       "<table border=\"1\" class=\"dataframe\">\n",
       "  <thead>\n",
       "    <tr style=\"text-align: right;\">\n",
       "      <th></th>\n",
       "      <th>ID</th>\n",
       "      <th>Name</th>\n",
       "      <th>Longitude_WGS84</th>\n",
       "      <th>Latitude_WGS84</th>\n",
       "      <th>AdmArea</th>\n",
       "      <th>District</th>\n",
       "      <th>RouteNumbers</th>\n",
       "      <th>StationName</th>\n",
       "      <th>Direction</th>\n",
       "      <th>Pavilion</th>\n",
       "      <th>OperatingOrgName</th>\n",
       "      <th>EntryState</th>\n",
       "      <th>global_id</th>\n",
       "      <th>PlaceDescription</th>\n",
       "      <th>Works</th>\n",
       "      <th>geodata_center</th>\n",
       "      <th>geoarea</th>\n",
       "    </tr>\n",
       "  </thead>\n",
       "  <tbody>\n",
       "    <tr>\n",
       "      <th>0</th>\n",
       "      <td>Локальный идентификатор</td>\n",
       "      <td>Наименование</td>\n",
       "      <td>Долгота в WGS-84</td>\n",
       "      <td>Широта в WGS-84</td>\n",
       "      <td>Административный округ</td>\n",
       "      <td>Район</td>\n",
       "      <td>Маршруты</td>\n",
       "      <td>Название остановки</td>\n",
       "      <td>Направление</td>\n",
       "      <td>Наличие павильона</td>\n",
       "      <td>Балансодержатель павильона ожидания (пилона, т...</td>\n",
       "      <td>Состояние записи</td>\n",
       "      <td>global_id</td>\n",
       "      <td>Описание места расположения объекта</td>\n",
       "      <td>Работы</td>\n",
       "      <td>geodata_center</td>\n",
       "      <td>geoarea</td>\n",
       "    </tr>\n",
       "    <tr>\n",
       "      <th>1</th>\n",
       "      <td>7</td>\n",
       "      <td>«Дербеневская наб.», 3-й Дербеневский переулок...</td>\n",
       "      <td>37.6551636</td>\n",
       "      <td>55.72566817</td>\n",
       "      <td>Южный административный округ</td>\n",
       "      <td>Даниловский район</td>\n",
       "      <td>А913; АС932</td>\n",
       "      <td>Дербеневская наб.</td>\n",
       "      <td>от центра</td>\n",
       "      <td>да</td>\n",
       "      <td>ГУП «Мосгортранс»</td>\n",
       "      <td>активна</td>\n",
       "      <td>889076457</td>\n",
       "      <td>Дербеневская ул., д.1</td>\n",
       "      <td>NaN</td>\n",
       "      <td>NaN</td>\n",
       "      <td>NaN</td>\n",
       "    </tr>\n",
       "    <tr>\n",
       "      <th>2</th>\n",
       "      <td>11</td>\n",
       "      <td>«Наб. Тараса Шевченко», набережная Тараса Шевч...</td>\n",
       "      <td>37.57227413</td>\n",
       "      <td>55.74967848</td>\n",
       "      <td>Западный административный округ</td>\n",
       "      <td>район Дорогомилово</td>\n",
       "      <td>А205; А622</td>\n",
       "      <td>Наб. Тараса Шевченко</td>\n",
       "      <td>в центр</td>\n",
       "      <td>нет</td>\n",
       "      <td>NaN</td>\n",
       "      <td>активна</td>\n",
       "      <td>889076459</td>\n",
       "      <td>Кутузовский просп., д.1</td>\n",
       "      <td>NaN</td>\n",
       "      <td>NaN</td>\n",
       "      <td>NaN</td>\n",
       "    </tr>\n",
       "    <tr>\n",
       "      <th>3</th>\n",
       "      <td>27</td>\n",
       "      <td>«Кардиоцентр», 3-я Черепковская улица (в центр...</td>\n",
       "      <td>37.37550932</td>\n",
       "      <td>55.7572642</td>\n",
       "      <td>Западный административный округ</td>\n",
       "      <td>район Кунцево</td>\n",
       "      <td>А660; А798; А816</td>\n",
       "      <td>Кардиоцентр</td>\n",
       "      <td>в центр</td>\n",
       "      <td>да</td>\n",
       "      <td>ГУП «Мосгортранс»</td>\n",
       "      <td>активна</td>\n",
       "      <td>889076461</td>\n",
       "      <td>3-я Черепковская ул., д.15А</td>\n",
       "      <td>NaN</td>\n",
       "      <td>NaN</td>\n",
       "      <td>NaN</td>\n",
       "    </tr>\n",
       "    <tr>\n",
       "      <th>4</th>\n",
       "      <td>33</td>\n",
       "      <td>«Новосущёвская ул.», улица Сущёвский Вал (в це...</td>\n",
       "      <td>37.60337594</td>\n",
       "      <td>55.79289095</td>\n",
       "      <td>Северо-Восточный административный округ</td>\n",
       "      <td>район Марьина Роща</td>\n",
       "      <td>А126; Ас484; Ат18; Ат42</td>\n",
       "      <td>Новосущёвская ул.</td>\n",
       "      <td>в центр</td>\n",
       "      <td>да</td>\n",
       "      <td>ЗАО «Валль-СНГ»</td>\n",
       "      <td>активна</td>\n",
       "      <td>889076463</td>\n",
       "      <td>ул. Сущёвский Вал, д.25</td>\n",
       "      <td>NaN</td>\n",
       "      <td>NaN</td>\n",
       "      <td>NaN</td>\n",
       "    </tr>\n",
       "  </tbody>\n",
       "</table>\n",
       "</div>"
      ],
      "text/plain": [
       "                        ID                                               Name  \\\n",
       "0  Локальный идентификатор                                       Наименование   \n",
       "1                        7  «Дербеневская наб.», 3-й Дербеневский переулок...   \n",
       "2                       11  «Наб. Тараса Шевченко», набережная Тараса Шевч...   \n",
       "3                       27  «Кардиоцентр», 3-я Черепковская улица (в центр...   \n",
       "4                       33  «Новосущёвская ул.», улица Сущёвский Вал (в це...   \n",
       "\n",
       "    Longitude_WGS84   Latitude_WGS84                                  AdmArea  \\\n",
       "0  Долгота в WGS-84  Широта в WGS-84                   Административный округ   \n",
       "1        37.6551636      55.72566817             Южный административный округ   \n",
       "2       37.57227413      55.74967848          Западный административный округ   \n",
       "3       37.37550932       55.7572642          Западный административный округ   \n",
       "4       37.60337594      55.79289095  Северо-Восточный административный округ   \n",
       "\n",
       "             District             RouteNumbers           StationName  \\\n",
       "0               Район                 Маршруты    Название остановки   \n",
       "1   Даниловский район              А913; АС932     Дербеневская наб.   \n",
       "2  район Дорогомилово               А205; А622  Наб. Тараса Шевченко   \n",
       "3       район Кунцево         А660; А798; А816           Кардиоцентр   \n",
       "4  район Марьина Роща  А126; Ас484; Ат18; Ат42     Новосущёвская ул.   \n",
       "\n",
       "     Direction           Pavilion  \\\n",
       "0  Направление  Наличие павильона   \n",
       "1    от центра                 да   \n",
       "2      в центр                нет   \n",
       "3      в центр                 да   \n",
       "4      в центр                 да   \n",
       "\n",
       "                                    OperatingOrgName        EntryState  \\\n",
       "0  Балансодержатель павильона ожидания (пилона, т...  Состояние записи   \n",
       "1                                  ГУП «Мосгортранс»           активна   \n",
       "2                                                NaN           активна   \n",
       "3                                  ГУП «Мосгортранс»           активна   \n",
       "4                                    ЗАО «Валль-СНГ»           активна   \n",
       "\n",
       "   global_id                     PlaceDescription   Works  geodata_center  \\\n",
       "0  global_id  Описание места расположения объекта  Работы  geodata_center   \n",
       "1  889076457                Дербеневская ул., д.1     NaN             NaN   \n",
       "2  889076459              Кутузовский просп., д.1     NaN             NaN   \n",
       "3  889076461          3-я Черепковская ул., д.15А     NaN             NaN   \n",
       "4  889076463              ул. Сущёвский Вал, д.25     NaN             NaN   \n",
       "\n",
       "   geoarea  \n",
       "0  geoarea  \n",
       "1      NaN  \n",
       "2      NaN  \n",
       "3      NaN  \n",
       "4      NaN  "
      ]
     },
     "execution_count": 10,
     "metadata": {},
     "output_type": "execute_result"
    }
   ],
   "source": [
    "stations.head()"
   ]
  },
  {
   "cell_type": "code",
   "execution_count": 25,
   "id": "1ecd2300",
   "metadata": {},
   "outputs": [],
   "source": [
    "stations_count = stations.groupby(['Pavilion','AdmArea']).size()"
   ]
  },
  {
   "cell_type": "code",
   "execution_count": 26,
   "id": "8c0b9c30",
   "metadata": {},
   "outputs": [],
   "source": [
    "stations_count.sort_values(ascending=False, inplace=True)"
   ]
  },
  {
   "cell_type": "code",
   "execution_count": 27,
   "id": "61c86879",
   "metadata": {},
   "outputs": [
    {
     "data": {
      "text/plain": [
       "Pavilion           AdmArea                                \n",
       "да                 Восточный административный округ           947\n",
       "                   Южный административный округ               921\n",
       "                   Западный административный округ            863\n",
       "                   Юго-Западный административный округ        798\n",
       "                   Северо-Восточный административный округ    790\n",
       "                   Северный административный округ            754\n",
       "                   Юго-Восточный административный округ       729\n",
       "                   Центральный административный округ         718\n",
       "                   Северо-Западный административный округ     548\n",
       "нет                Юго-Восточный административный округ       507\n",
       "                   Южный административный округ               480\n",
       "                   Восточный административный округ           464\n",
       "да                 Новомосковский административный округ      457\n",
       "нет                Северо-Восточный административный округ    422\n",
       "                   Западный административный округ            401\n",
       "да                 Троицкий административный округ            337\n",
       "нет                Северо-Западный административный округ     321\n",
       "                   Северный административный округ            320\n",
       "                   Центральный административный округ         304\n",
       "                   Юго-Западный административный округ        294\n",
       "                   Новомосковский административный округ      238\n",
       "да                 Зеленоградский административный округ      198\n",
       "нет                Троицкий административный округ            115\n",
       "                   Зеленоградский административный округ       51\n",
       "Наличие павильона  Административный округ                       1\n",
       "dtype: int64"
      ]
     },
     "execution_count": 27,
     "metadata": {},
     "output_type": "execute_result"
    }
   ],
   "source": [
    "stations_count"
   ]
  },
  {
   "cell_type": "code",
   "execution_count": 20,
   "id": "064bef4b",
   "metadata": {},
   "outputs": [
    {
     "data": {
      "text/plain": [
       "Pavilion\n",
       "Наличие павильона       1\n",
       "да                   8060\n",
       "нет                  3917\n",
       "dtype: int64"
      ]
     },
     "execution_count": 20,
     "metadata": {},
     "output_type": "execute_result"
    }
   ],
   "source": [
    "pavilion_count = stations.groupby(['Pavilion']).size()\n",
    "pavilion_count"
   ]
  },
  {
   "cell_type": "code",
   "execution_count": null,
   "id": "23a3c3a4",
   "metadata": {},
   "outputs": [],
   "source": []
  }
 ],
 "metadata": {
  "kernelspec": {
   "display_name": "Python 3 (ipykernel)",
   "language": "python",
   "name": "python3"
  },
  "language_info": {
   "codemirror_mode": {
    "name": "ipython",
    "version": 3
   },
   "file_extension": ".py",
   "mimetype": "text/x-python",
   "name": "python",
   "nbconvert_exporter": "python",
   "pygments_lexer": "ipython3",
   "version": "3.10.4"
  }
 },
 "nbformat": 4,
 "nbformat_minor": 5
}
